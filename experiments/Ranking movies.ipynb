{
 "cells": [
  {
   "cell_type": "markdown",
   "metadata": {},
   "source": [
    "# Load dataset"
   ]
  },
  {
   "cell_type": "code",
   "execution_count": 58,
   "metadata": {
    "collapsed": false
   },
   "outputs": [],
   "source": [
    "genres_data = pd.read_csv(\n",
    "    'movielens-dataset/u.genre', \n",
    "    sep = '|', \n",
    "    encoding = \"ISO-8859-1\", \n",
    "    header = None, \n",
    "    names=['name', 'id']\n",
    ")"
   ]
  },
  {
   "cell_type": "code",
   "execution_count": 59,
   "metadata": {
    "collapsed": true
   },
   "outputs": [],
   "source": [
    "movie_data_columns = np.append(\n",
    "    ['movie_id', 'title', 'release_date', 'video_release_date', 'url'], \n",
    "    genres_data['name'].values\n",
    ")"
   ]
  },
  {
   "cell_type": "code",
   "execution_count": 60,
   "metadata": {
    "collapsed": true
   },
   "outputs": [],
   "source": [
    "movie_data = pd.read_csv(\n",
    "    'movielens-dataset/u.item', \n",
    "    sep = '|', \n",
    "    encoding = \"ISO-8859-1\", \n",
    "    header = None, \n",
    "    names = movie_data_columns,\n",
    "    index_col = 'movie_id'\n",
    ")"
   ]
  },
  {
   "cell_type": "code",
   "execution_count": 61,
   "metadata": {
    "collapsed": false
   },
   "outputs": [
    {
     "data": {
      "text/html": [
       "<div>\n",
       "<table border=\"1\" class=\"dataframe\">\n",
       "  <thead>\n",
       "    <tr style=\"text-align: right;\">\n",
       "      <th></th>\n",
       "      <th>title</th>\n",
       "      <th>release_date</th>\n",
       "      <th>unknown</th>\n",
       "      <th>Action</th>\n",
       "      <th>Adventure</th>\n",
       "      <th>Animation</th>\n",
       "      <th>Children's</th>\n",
       "      <th>Comedy</th>\n",
       "      <th>Crime</th>\n",
       "      <th>Documentary</th>\n",
       "      <th>...</th>\n",
       "      <th>Fantasy</th>\n",
       "      <th>Film-Noir</th>\n",
       "      <th>Horror</th>\n",
       "      <th>Musical</th>\n",
       "      <th>Mystery</th>\n",
       "      <th>Romance</th>\n",
       "      <th>Sci-Fi</th>\n",
       "      <th>Thriller</th>\n",
       "      <th>War</th>\n",
       "      <th>Western</th>\n",
       "    </tr>\n",
       "    <tr>\n",
       "      <th>movie_id</th>\n",
       "      <th></th>\n",
       "      <th></th>\n",
       "      <th></th>\n",
       "      <th></th>\n",
       "      <th></th>\n",
       "      <th></th>\n",
       "      <th></th>\n",
       "      <th></th>\n",
       "      <th></th>\n",
       "      <th></th>\n",
       "      <th></th>\n",
       "      <th></th>\n",
       "      <th></th>\n",
       "      <th></th>\n",
       "      <th></th>\n",
       "      <th></th>\n",
       "      <th></th>\n",
       "      <th></th>\n",
       "      <th></th>\n",
       "      <th></th>\n",
       "      <th></th>\n",
       "    </tr>\n",
       "  </thead>\n",
       "  <tbody>\n",
       "    <tr>\n",
       "      <th>1</th>\n",
       "      <td>Toy Story (1995)</td>\n",
       "      <td>1995-01-01</td>\n",
       "      <td>0</td>\n",
       "      <td>0</td>\n",
       "      <td>0</td>\n",
       "      <td>1</td>\n",
       "      <td>1</td>\n",
       "      <td>1</td>\n",
       "      <td>0</td>\n",
       "      <td>0</td>\n",
       "      <td>...</td>\n",
       "      <td>0</td>\n",
       "      <td>0</td>\n",
       "      <td>0</td>\n",
       "      <td>0</td>\n",
       "      <td>0</td>\n",
       "      <td>0</td>\n",
       "      <td>0</td>\n",
       "      <td>0</td>\n",
       "      <td>0</td>\n",
       "      <td>0</td>\n",
       "    </tr>\n",
       "    <tr>\n",
       "      <th>2</th>\n",
       "      <td>GoldenEye (1995)</td>\n",
       "      <td>1995-01-01</td>\n",
       "      <td>0</td>\n",
       "      <td>1</td>\n",
       "      <td>1</td>\n",
       "      <td>0</td>\n",
       "      <td>0</td>\n",
       "      <td>0</td>\n",
       "      <td>0</td>\n",
       "      <td>0</td>\n",
       "      <td>...</td>\n",
       "      <td>0</td>\n",
       "      <td>0</td>\n",
       "      <td>0</td>\n",
       "      <td>0</td>\n",
       "      <td>0</td>\n",
       "      <td>0</td>\n",
       "      <td>0</td>\n",
       "      <td>1</td>\n",
       "      <td>0</td>\n",
       "      <td>0</td>\n",
       "    </tr>\n",
       "    <tr>\n",
       "      <th>3</th>\n",
       "      <td>Four Rooms (1995)</td>\n",
       "      <td>1995-01-01</td>\n",
       "      <td>0</td>\n",
       "      <td>0</td>\n",
       "      <td>0</td>\n",
       "      <td>0</td>\n",
       "      <td>0</td>\n",
       "      <td>0</td>\n",
       "      <td>0</td>\n",
       "      <td>0</td>\n",
       "      <td>...</td>\n",
       "      <td>0</td>\n",
       "      <td>0</td>\n",
       "      <td>0</td>\n",
       "      <td>0</td>\n",
       "      <td>0</td>\n",
       "      <td>0</td>\n",
       "      <td>0</td>\n",
       "      <td>1</td>\n",
       "      <td>0</td>\n",
       "      <td>0</td>\n",
       "    </tr>\n",
       "    <tr>\n",
       "      <th>4</th>\n",
       "      <td>Get Shorty (1995)</td>\n",
       "      <td>1995-01-01</td>\n",
       "      <td>0</td>\n",
       "      <td>1</td>\n",
       "      <td>0</td>\n",
       "      <td>0</td>\n",
       "      <td>0</td>\n",
       "      <td>1</td>\n",
       "      <td>0</td>\n",
       "      <td>0</td>\n",
       "      <td>...</td>\n",
       "      <td>0</td>\n",
       "      <td>0</td>\n",
       "      <td>0</td>\n",
       "      <td>0</td>\n",
       "      <td>0</td>\n",
       "      <td>0</td>\n",
       "      <td>0</td>\n",
       "      <td>0</td>\n",
       "      <td>0</td>\n",
       "      <td>0</td>\n",
       "    </tr>\n",
       "    <tr>\n",
       "      <th>5</th>\n",
       "      <td>Copycat (1995)</td>\n",
       "      <td>1995-01-01</td>\n",
       "      <td>0</td>\n",
       "      <td>0</td>\n",
       "      <td>0</td>\n",
       "      <td>0</td>\n",
       "      <td>0</td>\n",
       "      <td>0</td>\n",
       "      <td>1</td>\n",
       "      <td>0</td>\n",
       "      <td>...</td>\n",
       "      <td>0</td>\n",
       "      <td>0</td>\n",
       "      <td>0</td>\n",
       "      <td>0</td>\n",
       "      <td>0</td>\n",
       "      <td>0</td>\n",
       "      <td>0</td>\n",
       "      <td>1</td>\n",
       "      <td>0</td>\n",
       "      <td>0</td>\n",
       "    </tr>\n",
       "  </tbody>\n",
       "</table>\n",
       "<p>5 rows × 21 columns</p>\n",
       "</div>"
      ],
      "text/plain": [
       "                      title release_date  unknown  Action  Adventure  \\\n",
       "movie_id                                                               \n",
       "1          Toy Story (1995)   1995-01-01        0       0          0   \n",
       "2          GoldenEye (1995)   1995-01-01        0       1          1   \n",
       "3         Four Rooms (1995)   1995-01-01        0       0          0   \n",
       "4         Get Shorty (1995)   1995-01-01        0       1          0   \n",
       "5            Copycat (1995)   1995-01-01        0       0          0   \n",
       "\n",
       "          Animation  Children's  Comedy  Crime  Documentary   ...     Fantasy  \\\n",
       "movie_id                                                      ...               \n",
       "1                 1           1       1      0            0   ...           0   \n",
       "2                 0           0       0      0            0   ...           0   \n",
       "3                 0           0       0      0            0   ...           0   \n",
       "4                 0           0       1      0            0   ...           0   \n",
       "5                 0           0       0      1            0   ...           0   \n",
       "\n",
       "          Film-Noir  Horror  Musical  Mystery  Romance  Sci-Fi  Thriller  War  \\\n",
       "movie_id                                                                        \n",
       "1                 0       0        0        0        0       0         0    0   \n",
       "2                 0       0        0        0        0       0         1    0   \n",
       "3                 0       0        0        0        0       0         1    0   \n",
       "4                 0       0        0        0        0       0         0    0   \n",
       "5                 0       0        0        0        0       0         1    0   \n",
       "\n",
       "          Western  \n",
       "movie_id           \n",
       "1               0  \n",
       "2               0  \n",
       "3               0  \n",
       "4               0  \n",
       "5               0  \n",
       "\n",
       "[5 rows x 21 columns]"
      ]
     },
     "execution_count": 61,
     "metadata": {},
     "output_type": "execute_result"
    }
   ],
   "source": [
    "selected_columns = np.append(['title', 'release_date'], genres_data['name'].values)\n",
    "movie_data = movie_data[selected_columns]\n",
    "movie_data['release_date'] = pd.to_datetime(movie_data['release_date'])\n",
    "\n",
    "movie_data.head()"
   ]
  },
  {
   "cell_type": "code",
   "execution_count": 62,
   "metadata": {
    "collapsed": false
   },
   "outputs": [],
   "source": [
    "ratings_data = pd.read_csv(\n",
    "    'movielens-dataset/u.data', \n",
    "    sep = '\\t', \n",
    "    encoding = \"ISO-8859-1\", \n",
    "    header = None, \n",
    "    names=['user_id', 'movie_id', 'rating', 'timestamp']\n",
    ")"
   ]
  },
  {
   "cell_type": "code",
   "execution_count": 63,
   "metadata": {
    "collapsed": false
   },
   "outputs": [],
   "source": [
    "movie_data['ratings_average'] = ratings_data.groupby(['movie_id'])['rating'].mean()\n",
    "movie_data['ratings_count'] = ratings_data.groupby(['movie_id'])['rating'].count()"
   ]
  },
  {
   "cell_type": "code",
   "execution_count": 64,
   "metadata": {
    "collapsed": false
   },
   "outputs": [
    {
     "data": {
      "text/html": [
       "<div>\n",
       "<table border=\"1\" class=\"dataframe\">\n",
       "  <thead>\n",
       "    <tr style=\"text-align: right;\">\n",
       "      <th></th>\n",
       "      <th>title</th>\n",
       "      <th>ratings_average</th>\n",
       "      <th>ratings_count</th>\n",
       "    </tr>\n",
       "    <tr>\n",
       "      <th>movie_id</th>\n",
       "      <th></th>\n",
       "      <th></th>\n",
       "      <th></th>\n",
       "    </tr>\n",
       "  </thead>\n",
       "  <tbody>\n",
       "    <tr>\n",
       "      <th>1</th>\n",
       "      <td>Toy Story (1995)</td>\n",
       "      <td>3.878319</td>\n",
       "      <td>452</td>\n",
       "    </tr>\n",
       "    <tr>\n",
       "      <th>2</th>\n",
       "      <td>GoldenEye (1995)</td>\n",
       "      <td>3.206107</td>\n",
       "      <td>131</td>\n",
       "    </tr>\n",
       "    <tr>\n",
       "      <th>3</th>\n",
       "      <td>Four Rooms (1995)</td>\n",
       "      <td>3.033333</td>\n",
       "      <td>90</td>\n",
       "    </tr>\n",
       "    <tr>\n",
       "      <th>4</th>\n",
       "      <td>Get Shorty (1995)</td>\n",
       "      <td>3.550239</td>\n",
       "      <td>209</td>\n",
       "    </tr>\n",
       "    <tr>\n",
       "      <th>5</th>\n",
       "      <td>Copycat (1995)</td>\n",
       "      <td>3.302326</td>\n",
       "      <td>86</td>\n",
       "    </tr>\n",
       "  </tbody>\n",
       "</table>\n",
       "</div>"
      ],
      "text/plain": [
       "                      title  ratings_average  ratings_count\n",
       "movie_id                                                   \n",
       "1          Toy Story (1995)         3.878319            452\n",
       "2          GoldenEye (1995)         3.206107            131\n",
       "3         Four Rooms (1995)         3.033333             90\n",
       "4         Get Shorty (1995)         3.550239            209\n",
       "5            Copycat (1995)         3.302326             86"
      ]
     },
     "execution_count": 64,
     "metadata": {},
     "output_type": "execute_result"
    }
   ],
   "source": [
    "movie_data[['title', 'ratings_average', 'ratings_count']].head()"
   ]
  },
  {
   "cell_type": "markdown",
   "metadata": {},
   "source": [
    "# Remove null values"
   ]
  },
  {
   "cell_type": "code",
   "execution_count": 65,
   "metadata": {
    "collapsed": false
   },
   "outputs": [
    {
     "data": {
      "text/plain": [
       "title           False\n",
       "release_date     True\n",
       "unknown         False\n",
       "Action          False\n",
       "Adventure       False\n",
       "Animation       False\n",
       "Children's      False\n",
       "Comedy          False\n",
       "Crime           False\n",
       "Documentary     False\n",
       "Drama           False\n",
       "Fantasy         False\n",
       "Film-Noir       False\n",
       "Horror          False\n",
       "Musical         False\n",
       "Mystery         False\n",
       "Romance         False\n",
       "Sci-Fi          False\n",
       "Thriller        False\n",
       "War             False\n",
       "Western         False\n",
       "dtype: bool"
      ]
     },
     "execution_count": 65,
     "metadata": {},
     "output_type": "execute_result"
    }
   ],
   "source": [
    "movie_data[selected_columns].isnull().any()"
   ]
  },
  {
   "cell_type": "code",
   "execution_count": 66,
   "metadata": {
    "collapsed": true
   },
   "outputs": [],
   "source": [
    "null_release_dates = movie_data[movie_data['release_date'].isnull()]\n",
    "assert null_release_dates.shape[0] == 1"
   ]
  },
  {
   "cell_type": "code",
   "execution_count": 67,
   "metadata": {
    "collapsed": true
   },
   "outputs": [],
   "source": [
    "movie_data = movie_data.drop(null_release_dates.index.values)\n",
    "assert movie_data[selected_columns].isnull().any().any() == False"
   ]
  },
  {
   "cell_type": "markdown",
   "metadata": {},
   "source": [
    "# Check data types"
   ]
  },
  {
   "cell_type": "code",
   "execution_count": 68,
   "metadata": {
    "collapsed": false
   },
   "outputs": [
    {
     "data": {
      "text/plain": [
       "title                      object\n",
       "release_date       datetime64[ns]\n",
       "unknown                     int64\n",
       "Action                      int64\n",
       "Adventure                   int64\n",
       "Animation                   int64\n",
       "Children's                  int64\n",
       "Comedy                      int64\n",
       "Crime                       int64\n",
       "Documentary                 int64\n",
       "Drama                       int64\n",
       "Fantasy                     int64\n",
       "Film-Noir                   int64\n",
       "Horror                      int64\n",
       "Musical                     int64\n",
       "Mystery                     int64\n",
       "Romance                     int64\n",
       "Sci-Fi                      int64\n",
       "Thriller                    int64\n",
       "War                         int64\n",
       "Western                     int64\n",
       "ratings_average           float64\n",
       "ratings_count               int64\n",
       "dtype: object"
      ]
     },
     "execution_count": 68,
     "metadata": {},
     "output_type": "execute_result"
    }
   ],
   "source": [
    "movie_data.dtypes"
   ]
  },
  {
   "cell_type": "markdown",
   "metadata": {},
   "source": [
    "# Compute the artificial \"price\" and \"buy_probability\" attributes"
   ]
  },
  {
   "cell_type": "code",
   "execution_count": 69,
   "metadata": {
    "collapsed": false
   },
   "outputs": [],
   "source": [
    "from datetime import datetime\n",
    "import dateutil"
   ]
  },
  {
   "cell_type": "code",
   "execution_count": 70,
   "metadata": {
    "collapsed": false
   },
   "outputs": [
    {
     "data": {
      "text/html": [
       "<div>\n",
       "<table border=\"1\" class=\"dataframe\">\n",
       "  <thead>\n",
       "    <tr style=\"text-align: right;\">\n",
       "      <th></th>\n",
       "      <th>title</th>\n",
       "      <th>price</th>\n",
       "      <th>ratings_average</th>\n",
       "      <th>ratings_count</th>\n",
       "    </tr>\n",
       "    <tr>\n",
       "      <th>movie_id</th>\n",
       "      <th></th>\n",
       "      <th></th>\n",
       "      <th></th>\n",
       "      <th></th>\n",
       "    </tr>\n",
       "  </thead>\n",
       "  <tbody>\n",
       "    <tr>\n",
       "      <th>1</th>\n",
       "      <td>Toy Story (1995)</td>\n",
       "      <td>7</td>\n",
       "      <td>3.878319</td>\n",
       "      <td>452</td>\n",
       "    </tr>\n",
       "    <tr>\n",
       "      <th>2</th>\n",
       "      <td>GoldenEye (1995)</td>\n",
       "      <td>5</td>\n",
       "      <td>3.206107</td>\n",
       "      <td>131</td>\n",
       "    </tr>\n",
       "    <tr>\n",
       "      <th>3</th>\n",
       "      <td>Four Rooms (1995)</td>\n",
       "      <td>5</td>\n",
       "      <td>3.033333</td>\n",
       "      <td>90</td>\n",
       "    </tr>\n",
       "    <tr>\n",
       "      <th>4</th>\n",
       "      <td>Get Shorty (1995)</td>\n",
       "      <td>6</td>\n",
       "      <td>3.550239</td>\n",
       "      <td>209</td>\n",
       "    </tr>\n",
       "    <tr>\n",
       "      <th>5</th>\n",
       "      <td>Copycat (1995)</td>\n",
       "      <td>5</td>\n",
       "      <td>3.302326</td>\n",
       "      <td>86</td>\n",
       "    </tr>\n",
       "  </tbody>\n",
       "</table>\n",
       "</div>"
      ],
      "text/plain": [
       "                      title  price  ratings_average  ratings_count\n",
       "movie_id                                                          \n",
       "1          Toy Story (1995)      7         3.878319            452\n",
       "2          GoldenEye (1995)      5         3.206107            131\n",
       "3         Four Rooms (1995)      5         3.033333             90\n",
       "4         Get Shorty (1995)      6         3.550239            209\n",
       "5            Copycat (1995)      5         3.302326             86"
      ]
     },
     "execution_count": 70,
     "metadata": {},
     "output_type": "execute_result"
    }
   ],
   "source": [
    "oldest_date = pd.to_datetime(movie_data['release_date']).min()\n",
    "most_recent_date = pd.to_datetime(movie_data['release_date']).max()\n",
    "normalised_age = (most_recent_date - pd.to_datetime(movie_data['release_date'])) / (most_recent_date - oldest_date)\n",
    "normalised_rating = (5 - movie_data['ratings_average']) / (5 - 1)\n",
    "\n",
    "movie_data['price'] = np.round((1 - normalised_rating) * (1 - normalised_age) * 10)\n",
    "movie_data[['title', 'price', 'ratings_average', 'ratings_count']].head()"
   ]
  },
  {
   "cell_type": "code",
   "execution_count": 71,
   "metadata": {
    "collapsed": true
   },
   "outputs": [],
   "source": [
    "# one movie had title unknown, relesease data unknown, etc...\n",
    "movie_data = movie_data[movie_data['price'].notnull()]"
   ]
  },
  {
   "cell_type": "code",
   "execution_count": 72,
   "metadata": {
    "collapsed": false
   },
   "outputs": [],
   "source": [
    "# the lower the price, the more likely I am going to buy\n",
    "movie_data['buy_probability'] = 1 - movie_data['price'] * 0.1"
   ]
  },
  {
   "cell_type": "markdown",
   "metadata": {},
   "source": [
    "# The perfect ranking"
   ]
  },
  {
   "cell_type": "code",
   "execution_count": 73,
   "metadata": {
    "collapsed": false
   },
   "outputs": [
    {
     "data": {
      "image/png": "[encoded data removed]",
      "text/plain": [
       "<matplotlib.figure.Figure at 0x10e1067b8>"
      ]
     },
     "metadata": {},
     "output_type": "display_data"
    }
   ],
   "source": [
    "plt.plot(movie_data['price'].values, movie_data['buy_probability'].values, 'ro') # ro = red circles\n",
    "plt.xlabel('price')\n",
    "plt.ylabel('buy_probability')\n",
    "plt.show()"
   ]
  },
  {
   "cell_type": "markdown",
   "metadata": {},
   "source": [
    "## Genres distribution"
   ]
  },
  {
   "cell_type": "code",
   "execution_count": 74,
   "metadata": {
    "collapsed": false
   },
   "outputs": [],
   "source": [
    "def plot_genres(movie_data):\n",
    "    genres_array = [(genre, movie_data[genre].sum()) for genre in genres_data['name'].values]\n",
    "    genres_names = list(map(lambda x: x[0], genres_array))\n",
    "    genres_count = list(map(lambda x: x[1], genres_array))\n",
    "\n",
    "    genres_df = pd.DataFrame({'name': genres_names, 'count': genres_count})\n",
    "    x = np.arange(len(genres_df['name'].values))\n",
    "    plt.bar(x, genres_df['count'].values)\n",
    "    plt.xticks(x, genres_df['name'].values, rotation='vertical')\n",
    "    plt.title(\"Genres distribution\")\n",
    "    \n",
    "def plot_years(movie_data):\n",
    "    years = movie_data['release_date'].values.astype('datetime64[Y]').astype(int) + 1970\n",
    "    plt.hist(years)\n",
    "    plt.title(\"Years distribution\")\n",
    "    \n",
    "def plot_ratings(movie_data):\n",
    "    movie_data['ratings_average'].hist()\n",
    "    plt.title(\"Ratings distribution\")\n",
    "    \n",
    "def plot_price(movie_data):\n",
    "    movie_data['price'].hist()\n",
    "    plt.title(\"Price distribution\")\n",
    "    \n",
    "def plot_ratings_count(movie_data):\n",
    "    movie_data['ratings_count'].hist()\n",
    "    plt.title(\"Ratings count\")\n",
    "    \n",
    "def buy_probability_distribution(movie_data):\n",
    "    movie_data['buy_probability'].hist(bins=11)\n",
    "    plt.title(\"Buy probability distribution\")"
   ]
  },
  {
   "cell_type": "code",
   "execution_count": 75,
   "metadata": {
    "collapsed": false
   },
   "outputs": [],
   "source": [
    "def plot_distributions(movie_data):\n",
    "    fig = plt.figure(figsize=(8, 6)) \n",
    "\n",
    "    fig.add_subplot(3, 2, 1)\n",
    "    plot_genres(movie_data)\n",
    "\n",
    "    fig.add_subplot(3, 2, 2)\n",
    "    plot_years(movie_data)\n",
    "\n",
    "    fig.add_subplot(3, 2, 3)\n",
    "    plot_ratings(movie_data)\n",
    "\n",
    "    fig.add_subplot(3, 2, 4)\n",
    "    plot_price(movie_data)\n",
    "\n",
    "    fig.add_subplot(3, 2, 5)\n",
    "    plot_ratings_count(movie_data)\n",
    "\n",
    "    fig.add_subplot(3, 2, 6)\n",
    "    buy_probability_distribution(movie_data)\n",
    "\n",
    "    plt.tight_layout()"
   ]
  },
  {
   "cell_type": "code",
   "execution_count": 76,
   "metadata": {
    "collapsed": false
   },
   "outputs": [
    {
     "data": {
      "image/png": "[encoded data removed]",
      "text/plain": [
       "<matplotlib.figure.Figure at 0x10de857b8>"
      ]
     },
     "metadata": {},
     "output_type": "display_data"
    }
   ],
   "source": [
    "plot_distributions(movie_data)"
   ]
  },
  {
   "cell_type": "markdown",
   "metadata": {},
   "source": [
    "# Events database functions"
   ]
  },
  {
   "cell_type": "code",
   "execution_count": 77,
   "metadata": {
    "collapsed": true
   },
   "outputs": [],
   "source": [
    "# The users database\n",
    "class User:\n",
    "    def __init__(self, id):\n",
    "        self.id = id\n",
    "        self.positive = []\n",
    "        self.negative = []\n",
    "        \n",
    "    def add_positive(self, movie_id):\n",
    "        self.positive.append(movie_id)\n",
    "    \n",
    "    def add_negative(self, movie_id):\n",
    "        self.negative.append(movie_id)\n",
    "    \n",
    "    def get_positive(self):\n",
    "        return self.positive\n",
    "    \n",
    "    def get_negative(self):\n",
    "        return self.negative"
   ]
  },
  {
   "cell_type": "code",
   "execution_count": 78,
   "metadata": {
    "collapsed": false
   },
   "outputs": [],
   "source": [
    "np.random.seed(1)\n",
    "\n",
    "class EventsGenerator:\n",
    "    NUM_OF_OPENED_MOVIES_PER_USER = 20\n",
    "    NUM_OF_USERS = 1000\n",
    "\n",
    "    def __init__(self, learning_data, buy_probability):\n",
    "        self.learning_data = learning_data\n",
    "        self.buy_probability = buy_probability\n",
    "        self.users = []\n",
    "        for id in range(1, self.NUM_OF_USERS):\n",
    "            self.users.append(User(id))\n",
    "        \n",
    "    def run(self, pairwise=False):\n",
    "        for user in self.users:\n",
    "            opened_movies = np.random.choice(self.learning_data.index.values, self.NUM_OF_OPENED_MOVIES_PER_USER)\n",
    "            self.__add_positives_and_negatives_to(user, opened_movies)\n",
    "\n",
    "        if pairwise:\n",
    "            return self.__build_pairwise_events_data()\n",
    "        else:\n",
    "            return self.__build_events_data()\n",
    "\n",
    "    def __add_positives_and_negatives_to(self, user, opened_movies):\n",
    "        for movie_id in opened_movies:\n",
    "            if np.random.binomial(1, self.buy_probability.loc[movie_id]): \n",
    "                user.add_positive(movie_id)\n",
    "            else:\n",
    "                user.add_negative(movie_id)\n",
    "                \n",
    "    def __build_events_data(self):\n",
    "        events_data = []\n",
    "        \n",
    "        for user in self.users:\n",
    "            for positive_id in user.get_positive():\n",
    "                tmp = learning_data.loc[positive_id].to_dict()\n",
    "                tmp['outcome'] = 1\n",
    "                events_data += [tmp]\n",
    "            \n",
    "            for negative_id in user.get_negative():\n",
    "                tmp = learning_data.loc[negative_id].to_dict()\n",
    "                tmp['outcome'] = 0\n",
    "                events_data += [tmp]\n",
    "                \n",
    "        return pd.DataFrame(events_data)\n",
    "    \n",
    "    def __build_pairwise_events_data(self):\n",
    "        events_data = []\n",
    "        \n",
    "        for i, user in enumerate(self.users):\n",
    "            print(\"{} of {}\".format(i, len(self.users)))\n",
    "            positives = user.get_positive()\n",
    "            negatives = user.get_negative()\n",
    "            \n",
    "            sample_size = min(len(positives), len(negatives))\n",
    "            \n",
    "            positives = np.random.choice(positives, sample_size)\n",
    "            negatives = np.random.choice(negatives, sample_size)\n",
    "            \n",
    "            # print(\"Adding {} events\".format(str(len(positives) * len(negatives) * 2)))\n",
    "            for positive in positives:\n",
    "                for negative in negatives:                    \n",
    "                    e1 = learning_data.loc[positive].values\n",
    "                    e2 = learning_data.loc[negative].values\n",
    "                    \n",
    "                    pos_neg_example = np.concatenate([e1, e2, [1]])\n",
    "                    neg_pos_example = np.concatenate([e2, e1, [0]])\n",
    "                    \n",
    "                    events_data.append(pos_neg_example)\n",
    "                    events_data.append(neg_pos_example)\n",
    "        \n",
    "        c1 = [ c + '_1' for c in learning_data.columns]\n",
    "        c2 = [ c + '_2' for c in learning_data.columns]\n",
    "        return pd.DataFrame(events_data, columns = np.concatenate([c1, c2, ['outcome']]))"
   ]
  },
  {
   "cell_type": "code",
   "execution_count": 79,
   "metadata": {
    "collapsed": true
   },
   "outputs": [],
   "source": [
    "def build_learning_data_from(movie_data):\n",
    "    feature_columns = np.setdiff1d(movie_data.columns, np.array(['title', 'buy_probability']))\n",
    "    learning_data = movie_data.loc[:, feature_columns]\n",
    "    \n",
    "    scaler = StandardScaler()\n",
    "    learning_data.loc[:, ('price')] = scaler.fit_transform(learning_data[['price']])\n",
    "    learning_data['ratings_average'] = scaler.fit_transform(learning_data[['ratings_average']])\n",
    "    learning_data['ratings_count'] = scaler.fit_transform(learning_data[['ratings_count']])\n",
    "    learning_data['release_date'] = learning_data['release_date'].apply(lambda x: x.year)\n",
    "    learning_data['release_date'] = scaler.fit_transform(learning_data[['release_date']])\n",
    "    \n",
    "    return learning_data"
   ]
  },
  {
   "cell_type": "code",
   "execution_count": 80,
   "metadata": {
    "collapsed": true
   },
   "outputs": [],
   "source": [
    "def plot_events_distribution(events_data):\n",
    "    events_data_sample = events_data.sample(frac=0.1)\n",
    "    negative_outcomes = events_data_sample[events_data_sample['outcome'] == 0.0]['price']\n",
    "    positive_outcomes = events_data_sample[events_data_sample['outcome'] == 1.0]['price']\n",
    "    \n",
    "    outcomes = np.array(list(zip(negative_outcomes.values, positive_outcomes.values)))\n",
    "    plt.hist(outcomes, bins=11, label = ['Negative', 'Positive'])\n",
    "    plt.legend()\n",
    "    plt.xlabel('price')\n",
    "    plt.show()"
   ]
  },
  {
   "cell_type": "code",
   "execution_count": 81,
   "metadata": {
    "collapsed": true
   },
   "outputs": [],
   "source": [
    "def get_feature_columns_from(learning_data, pairwise=False):\n",
    "    if not pairwise:\n",
    "        return learning_data.columns.values\n",
    "    else:\n",
    "        f1 = [c + '_1' for c in learning_data.columns.values]\n",
    "        f2 = [c + '_2' for c in learning_data.columns.values]\n",
    "        f1.extend(f2)\n",
    "        return np.asarray(f1)"
   ]
  },
  {
   "cell_type": "code",
   "execution_count": 82,
   "metadata": {
    "collapsed": false
   },
   "outputs": [],
   "source": [
    "def save_events_data(events_data, learning_data, tag, pairwise=False):\n",
    "    events_data = events_data.reindex(np.random.permutation(events_data.index))\n",
    "    events_data.to_csv('movie_events_' + tag + '.csv')\n",
    "    \n",
    "    if not pairwise:\n",
    "        df = pd.DataFrame(get_feature_columns_from(learning_data))\n",
    "        df.to_csv(\"feature_columns_\" + tag + \".csv\")\n",
    "    else:\n",
    "        df = pd.DataFrame(get_feature_columns_from(learning_data, pairwise=True))\n",
    "        df.to_csv(\"feature_columns_\" + tag + \".csv\")"
   ]
  },
  {
   "cell_type": "code",
   "execution_count": 83,
   "metadata": {
    "collapsed": false
   },
   "outputs": [],
   "source": [
    "def load_events_data(tag):\n",
    "    events_data = pd.DataFrame.from_csv('movie_events_' + tag + '.csv')\n",
    "    tmp = pd.DataFrame.from_csv(\"feature_columns_\" + tag + \".csv\")\n",
    "    feature_columns = tmp['0'].values\n",
    "    \n",
    "    return [events_data, feature_columns]"
   ]
  },
  {
   "cell_type": "code",
   "execution_count": 84,
   "metadata": {
    "collapsed": false
   },
   "outputs": [],
   "source": [
    "def get_test_train_data(events_data, feature_columns):\n",
    "    X = events_data.loc[:, feature_columns].values.astype(np.float32)\n",
    "    print('overall input shape: ' + str(X.shape))\n",
    "\n",
    "    y = events_data.loc[:, ['outcome']].values.astype(np.float32).ravel()\n",
    "    print('overall output shape: ' + str(y.shape))\n",
    "\n",
    "    X_train, X_test, y_train, y_test = train_test_split(X, y, test_size=0.2, random_state=42)\n",
    "    print('training input shape: ' + str(X_train.shape))\n",
    "    print('training output shape: ' + str(y_train.shape))\n",
    "\n",
    "    print('testing input shape: ' + str(X_test.shape))\n",
    "    print('testing output shape: ' + str(y_test.shape))\n",
    "    \n",
    "    return [X_train, X_test, y_train, y_test]"
   ]
  },
  {
   "cell_type": "markdown",
   "metadata": {},
   "source": [
    "# Generate linear events"
   ]
  },
  {
   "cell_type": "code",
   "execution_count": 85,
   "metadata": {
    "collapsed": true
   },
   "outputs": [],
   "source": [
    "learning_data = build_learning_data_from(movie_data)"
   ]
  },
  {
   "cell_type": "code",
   "execution_count": 37,
   "metadata": {
    "collapsed": false
   },
   "outputs": [],
   "source": [
    "events_data = EventsGenerator(learning_data, movie_data['buy_probability']).run()"
   ]
  },
  {
   "cell_type": "code",
   "execution_count": 38,
   "metadata": {
    "collapsed": true
   },
   "outputs": [],
   "source": [
    "save_events_data(events_data, learning_data, 'linear')"
   ]
  },
  {
   "cell_type": "code",
   "execution_count": 39,
   "metadata": {
    "collapsed": false
   },
   "outputs": [],
   "source": [
    "events_data, feature_columns = load_events_data('linear')"
   ]
  },
  {
   "cell_type": "code",
   "execution_count": 40,
   "metadata": {
    "collapsed": false
   },
   "outputs": [
    {
     "data": {
      "image/png": "[encoded data removed]",
      "text/plain": [
       "<matplotlib.figure.Figure at 0x10cf49160>"
      ]
     },
     "metadata": {},
     "output_type": "display_data"
    }
   ],
   "source": [
    "plot_events_distribution(events_data)"
   ]
  },
  {
   "cell_type": "markdown",
   "metadata": {},
   "source": [
    "## Pairwise"
   ]
  },
  {
   "cell_type": "code",
   "execution_count": null,
   "metadata": {
    "collapsed": false
   },
   "outputs": [],
   "source": [
    "events_data = EventsGenerator(learning_data, movie_data['buy_probability']).run(pairwise=True)"
   ]
  },
  {
   "cell_type": "code",
   "execution_count": 87,
   "metadata": {
    "collapsed": false
   },
   "outputs": [],
   "source": [
    "save_events_data(events_data, learning_data, 'pairwise-linear', pairwise=True)"
   ]
  },
  {
   "cell_type": "code",
   "execution_count": 90,
   "metadata": {
    "collapsed": false
   },
   "outputs": [],
   "source": [
    "events_data, feature_columns = load_events_data('pairwise-linear')"
   ]
  },
  {
   "cell_type": "code",
   "execution_count": 91,
   "metadata": {
    "collapsed": false
   },
   "outputs": [
    {
     "data": {
      "text/plain": [
       "(130236, 47)"
      ]
     },
     "execution_count": 91,
     "metadata": {},
     "output_type": "execute_result"
    }
   ],
   "source": [
    "events_data.shape"
   ]
  },
  {
   "cell_type": "markdown",
   "metadata": {},
   "source": [
    "# Train/Test data split"
   ]
  },
  {
   "cell_type": "code",
   "execution_count": 92,
   "metadata": {
    "collapsed": false
   },
   "outputs": [
    {
     "name": "stdout",
     "output_type": "stream",
     "text": [
      "overall input shape: (130236, 46)\n",
      "overall output shape: (130236,)\n",
      "training input shape: (104188, 46)\n",
      "training output shape: (104188,)\n",
      "testing input shape: (26048, 46)\n",
      "testing output shape: (26048,)\n"
     ]
    }
   ],
   "source": [
    "X_train, X_test, y_train, y_test = get_test_train_data(events_data, feature_columns)"
   ]
  },
  {
   "cell_type": "markdown",
   "metadata": {},
   "source": [
    "# Utility functions"
   ]
  },
  {
   "cell_type": "code",
   "execution_count": 93,
   "metadata": {
    "collapsed": true
   },
   "outputs": [],
   "source": [
    "def plot_rank(features, model, learning_data, predict_fun):\n",
    "    lg_input = learning_data.values.astype(np.float32)\n",
    "    print('overall input shape: ' + str(lg_input.shape))\n",
    "\n",
    "    learning_data_with_rank = learning_data.copy()\n",
    "    learning_data_with_rank['rank'] = predict_fun(model, lg_input)\n",
    "    \n",
    "    for idx, feature in enumerate(features):\n",
    "        plt.subplot(len(features), 1, idx + 1)\n",
    "        plt.plot(learning_data_with_rank[feature].values, learning_data_with_rank['rank'].values, 'ro')\n",
    "        plt.xlabel(feature)\n",
    "        plt.ylabel('rank')\n",
    "        \n",
    "    plt.tight_layout()\n",
    "    plt.show()"
   ]
  },
  {
   "cell_type": "code",
   "execution_count": 94,
   "metadata": {
    "collapsed": true
   },
   "outputs": [],
   "source": [
    "def train_model(model, prediction_function, X_train, y_train, X_test, y_test):\n",
    "    model.fit(X_train, y_train)\n",
    "    \n",
    "    y_train_pred = prediction_function(model, X_train)\n",
    "\n",
    "    print('train precision: ' + str(precision_score(y_train, y_train_pred)))\n",
    "    print('train recall: ' + str(recall_score(y_train, y_train_pred)))\n",
    "    print('train accuracy: ' + str(accuracy_score(y_train, y_train_pred)))\n",
    "\n",
    "    y_test_pred = prediction_function(model, X_test)\n",
    "\n",
    "    print('test precision: ' + str(precision_score(y_test, y_test_pred)))\n",
    "    print('test recall: ' + str(recall_score(y_test, y_test_pred)))\n",
    "    print('test accuracy: ' + str(accuracy_score(y_test, y_test_pred)))\n",
    "    \n",
    "    return model"
   ]
  },
  {
   "cell_type": "markdown",
   "metadata": {},
   "source": [
    "# Rank with the perfect predictor"
   ]
  },
  {
   "cell_type": "code",
   "execution_count": 44,
   "metadata": {
    "collapsed": true
   },
   "outputs": [],
   "source": [
    "def get_predicted_outcome(model, data):\n",
    "    return np.rint(model.predict(data))"
   ]
  },
  {
   "cell_type": "code",
   "execution_count": 45,
   "metadata": {
    "collapsed": true
   },
   "outputs": [],
   "source": [
    "def get_predicted_rank(model, data):\n",
    "    return model.predict(data)"
   ]
  },
  {
   "cell_type": "code",
   "execution_count": 46,
   "metadata": {
    "collapsed": true
   },
   "outputs": [],
   "source": [
    "import warnings\n",
    "warnings.filterwarnings(\"ignore\", category=DeprecationWarning)"
   ]
  },
  {
   "cell_type": "code",
   "execution_count": 47,
   "metadata": {
    "collapsed": false
   },
   "outputs": [],
   "source": [
    "class PerfectPredictor:\n",
    "    def fit(self, X, y):\n",
    "        return None\n",
    "    \n",
    "    def predict(self, X):\n",
    "        min_max_scaler = preprocessing.MinMaxScaler()\n",
    "        return 1 - min_max_scaler.fit_transform(X[:, -5])"
   ]
  },
  {
   "cell_type": "code",
   "execution_count": 48,
   "metadata": {
    "collapsed": false
   },
   "outputs": [
    {
     "name": "stdout",
     "output_type": "stream",
     "text": [
      "train precision: 0.737659068662\n",
      "train recall: 0.586567330146\n",
      "train accuracy: 0.650025025025\n",
      "test precision: 0.714364336819\n",
      "test recall: 0.588128681468\n",
      "test accuracy: 0.642642642643\n",
      "overall input shape: (1681, 23)\n"
     ]
    },
    {
     "data": {
      "image/png": "[encoded data removed]",
      "text/plain": [
       "<matplotlib.figure.Figure at 0x10cdcfcf8>"
      ]
     },
     "metadata": {},
     "output_type": "display_data"
    }
   ],
   "source": [
    "model = train_model(PerfectPredictor(), get_predicted_outcome, X_train, y_train, X_test, y_test)\n",
    "plot_rank(['price'], model, learning_data, get_predicted_rank)"
   ]
  },
  {
   "cell_type": "markdown",
   "metadata": {},
   "source": [
    "# Rank with a Logistic Regression\n",
    "\n",
    "* Collect for each movie the buy probability from the raw events\n",
    "* Run a beta regression\n",
    "\n",
    "=> Expect the coefficients to represent the artificial probability function"
   ]
  },
  {
   "cell_type": "code",
   "execution_count": 49,
   "metadata": {
    "collapsed": true
   },
   "outputs": [],
   "source": [
    "def get_predicted_outcome(model, data):\n",
    "    return np.argmax(model.predict_proba(data), axis=1).astype(np.float32)"
   ]
  },
  {
   "cell_type": "code",
   "execution_count": 50,
   "metadata": {
    "collapsed": true
   },
   "outputs": [],
   "source": [
    "def get_predicted_rank(model, data):\n",
    "    return model.predict_proba(data)[:, 1]"
   ]
  },
  {
   "cell_type": "code",
   "execution_count": 51,
   "metadata": {
    "collapsed": false,
    "scrolled": true
   },
   "outputs": [
    {
     "name": "stdout",
     "output_type": "stream",
     "text": [
      "train precision: 0.674018877298\n",
      "train recall: 0.754364505727\n",
      "train accuracy: 0.656531531532\n",
      "test precision: 0.649592549476\n",
      "test recall: 0.758495695514\n",
      "test accuracy: 0.640640640641\n"
     ]
    }
   ],
   "source": [
    "model = train_model(LogisticRegression(), get_predicted_outcome, X_train, y_train, X_test, y_test)"
   ]
  },
  {
   "cell_type": "code",
   "execution_count": 52,
   "metadata": {
    "collapsed": false
   },
   "outputs": [
    {
     "name": "stdout",
     "output_type": "stream",
     "text": [
      "overall input shape: (1681, 23)\n"
     ]
    },
    {
     "data": {
      "image/png": "[encoded data removed]",
      "text/plain": [
       "<matplotlib.figure.Figure at 0x10cdcfdd8>"
      ]
     },
     "metadata": {},
     "output_type": "display_data"
    }
   ],
   "source": [
    "plot_rank(['price'], model, learning_data, get_predicted_rank)"
   ]
  },
  {
   "cell_type": "markdown",
   "metadata": {
    "collapsed": true
   },
   "source": [
    "# Rank with Neural Network"
   ]
  },
  {
   "cell_type": "code",
   "execution_count": 53,
   "metadata": {
    "collapsed": false
   },
   "outputs": [],
   "source": [
    "def nn():\n",
    "    return NeuralNet(\n",
    "        layers=[  # three layers: one hidden layer\n",
    "            ('input', layers.InputLayer),\n",
    "            ('hidden', layers.DenseLayer),\n",
    "            ('output', layers.DenseLayer),\n",
    "            ],\n",
    "        # layer parameters:\n",
    "        input_shape=(None, 23),  # this code won't compile without SIZE being set\n",
    "        hidden_num_units=46,  # number of units in hidden layer\n",
    "        output_nonlinearity=None,  # output layer uses identity function\n",
    "        output_num_units=1,  # this code won't compile without OUTPUTS being set\n",
    "\n",
    "        # optimization method:\n",
    "        update_learning_rate=0.01, \n",
    "        regression=True,  # If you're doing classification you want this off\n",
    "        max_epochs=50,  # more epochs can be good, \n",
    "        verbose=1, # enabled so that you see meaningful output when the program runs\n",
    "    )"
   ]
  },
  {
   "cell_type": "code",
   "execution_count": 54,
   "metadata": {
    "collapsed": true
   },
   "outputs": [],
   "source": [
    "def get_predicted_outcome(model, data):\n",
    "    return np.rint(model.predict(data))"
   ]
  },
  {
   "cell_type": "code",
   "execution_count": 55,
   "metadata": {
    "collapsed": true
   },
   "outputs": [],
   "source": [
    "def get_predicted_rank(model, data):\n",
    "    return model.predict(data)"
   ]
  },
  {
   "cell_type": "code",
   "execution_count": 56,
   "metadata": {
    "collapsed": false
   },
   "outputs": [
    {
     "name": "stdout",
     "output_type": "stream",
     "text": [
      "# Neural Network with 1151 learnable parameters\n",
      "\n",
      "## Layer information\n",
      "\n",
      "  #  name      size\n",
      "---  ------  ------\n",
      "  0  input       23\n",
      "  1  hidden      46\n",
      "  2  output       1\n",
      "\n",
      "  epoch    trn loss    val loss    trn/val  dur\n",
      "-------  ----------  ----------  ---------  -----\n",
      "      1     \u001b[36m0.23083\u001b[0m     \u001b[32m0.20847\u001b[0m    1.10724  0.12s\n",
      "      2     \u001b[36m0.21426\u001b[0m     \u001b[32m0.20683\u001b[0m    1.03594  0.13s\n",
      "      3     \u001b[36m0.21253\u001b[0m     \u001b[32m0.20627\u001b[0m    1.03037  0.13s\n",
      "      4     \u001b[36m0.21168\u001b[0m     \u001b[32m0.20607\u001b[0m    1.02724  0.11s\n",
      "      5     \u001b[36m0.21114\u001b[0m     \u001b[32m0.20587\u001b[0m    1.02559  0.12s\n",
      "      6     \u001b[36m0.21078\u001b[0m     \u001b[32m0.20575\u001b[0m    1.02442  0.11s\n",
      "      7     \u001b[36m0.21051\u001b[0m     \u001b[32m0.20568\u001b[0m    1.02348  0.10s\n",
      "      8     \u001b[36m0.21029\u001b[0m     \u001b[32m0.20564\u001b[0m    1.02265  0.12s\n",
      "      9     \u001b[36m0.21013\u001b[0m     \u001b[32m0.20563\u001b[0m    1.02184  0.12s\n",
      "     10     \u001b[36m0.20998\u001b[0m     0.20568    1.02092  0.11s\n",
      "     11     \u001b[36m0.20985\u001b[0m     0.20572    1.02006  0.11s\n",
      "     12     \u001b[36m0.20973\u001b[0m     0.20574    1.01941  0.12s\n",
      "     13     \u001b[36m0.20962\u001b[0m     0.20574    1.01887  0.11s\n",
      "     14     \u001b[36m0.20953\u001b[0m     0.20577    1.01827  0.11s\n",
      "     15     \u001b[36m0.20945\u001b[0m     0.20581    1.01766  0.10s\n",
      "     16     \u001b[36m0.20937\u001b[0m     0.20582    1.01724  0.10s\n",
      "     17     \u001b[36m0.20930\u001b[0m     0.20586    1.01669  0.11s\n",
      "     18     \u001b[36m0.20922\u001b[0m     0.20592    1.01600  0.12s\n",
      "     19     \u001b[36m0.20915\u001b[0m     0.20598    1.01536  0.11s\n",
      "     20     \u001b[36m0.20908\u001b[0m     0.20603    1.01482  0.12s\n",
      "     21     \u001b[36m0.20902\u001b[0m     0.20607    1.01432  0.11s\n",
      "     22     \u001b[36m0.20896\u001b[0m     0.20613    1.01372  0.09s\n",
      "     23     \u001b[36m0.20890\u001b[0m     0.20618    1.01318  0.08s\n",
      "     24     \u001b[36m0.20884\u001b[0m     0.20621    1.01273  0.11s\n",
      "     25     \u001b[36m0.20878\u001b[0m     0.20626    1.01221  0.12s\n",
      "     26     \u001b[36m0.20873\u001b[0m     0.20628    1.01186  0.13s\n",
      "     27     \u001b[36m0.20868\u001b[0m     0.20633    1.01138  0.11s\n",
      "     28     \u001b[36m0.20863\u001b[0m     0.20637    1.01097  0.12s\n",
      "     29     \u001b[36m0.20859\u001b[0m     0.20640    1.01060  0.11s\n",
      "     30     \u001b[36m0.20855\u001b[0m     0.20643    1.01024  0.12s\n",
      "     31     \u001b[36m0.20851\u001b[0m     0.20646    1.00990  0.11s\n",
      "     32     \u001b[36m0.20847\u001b[0m     0.20650    1.00953  0.11s\n",
      "     33     \u001b[36m0.20843\u001b[0m     0.20652    1.00922  0.10s\n",
      "     34     \u001b[36m0.20839\u001b[0m     0.20656    1.00885  0.09s\n",
      "     35     \u001b[36m0.20835\u001b[0m     0.20660    1.00851  0.09s\n",
      "     36     \u001b[36m0.20832\u001b[0m     0.20664    1.00814  0.11s\n",
      "     37     \u001b[36m0.20828\u001b[0m     0.20668    1.00776  0.11s\n",
      "     38     \u001b[36m0.20824\u001b[0m     0.20670    1.00748  0.12s\n",
      "     39     \u001b[36m0.20820\u001b[0m     0.20675    1.00704  0.12s\n",
      "     40     \u001b[36m0.20816\u001b[0m     0.20679    1.00665  0.11s\n",
      "     41     \u001b[36m0.20813\u001b[0m     0.20683    1.00627  0.11s\n",
      "     42     \u001b[36m0.20809\u001b[0m     0.20688    1.00588  0.12s\n",
      "     43     \u001b[36m0.20806\u001b[0m     0.20692    1.00552  0.12s\n",
      "     44     \u001b[36m0.20802\u001b[0m     0.20697    1.00508  0.12s\n",
      "     45     \u001b[36m0.20799\u001b[0m     0.20702    1.00469  0.11s\n",
      "     46     \u001b[36m0.20796\u001b[0m     0.20706    1.00430  0.12s\n",
      "     47     \u001b[36m0.20792\u001b[0m     0.20711    1.00391  0.10s\n",
      "     48     \u001b[36m0.20788\u001b[0m     0.20716    1.00350  0.11s\n",
      "     49     \u001b[36m0.20785\u001b[0m     0.20720    1.00312  0.11s\n",
      "     50     \u001b[36m0.20781\u001b[0m     0.20725    1.00274  0.11s\n",
      "train precision: 0.698486217804\n",
      "train recall: 0.687534749249\n",
      "train accuracy: 0.65721971972\n",
      "test precision: 0.667556742323\n",
      "test recall: 0.679655641142\n",
      "test accuracy: 0.636136136136\n"
     ]
    }
   ],
   "source": [
    "model = train_model(\n",
    "    nn(), \n",
    "    get_predicted_outcome, \n",
    "    X_train.astype(np.float32), \n",
    "    y_train.astype(np.float32), \n",
    "    X_test.astype(np.float32), \n",
    "    y_test.astype(np.float32)\n",
    ")"
   ]
  },
  {
   "cell_type": "code",
   "execution_count": 95,
   "metadata": {
    "collapsed": false
   },
   "outputs": [
    {
     "name": "stdout",
     "output_type": "stream",
     "text": [
      "overall input shape: (1681, 23)\n"
     ]
    },
    {
     "data": {
      "image/png": "[encoded data removed]",
      "text/plain": [
       "<matplotlib.figure.Figure at 0x110321c88>"
      ]
     },
     "metadata": {},
     "output_type": "display_data"
    }
   ],
   "source": [
    "plot_rank(['price'], model, learning_data, get_predicted_rank)"
   ]
  },
  {
   "cell_type": "markdown",
   "metadata": {
    "collapsed": true
   },
   "source": [
    "# Rank with Decision Trees"
   ]
  },
  {
   "cell_type": "code",
   "execution_count": 96,
   "metadata": {
    "collapsed": true
   },
   "outputs": [],
   "source": [
    "def get_predicted_outcome(model, data):\n",
    "    return np.argmax(model.predict_proba(data), axis=1).astype(np.float32)"
   ]
  },
  {
   "cell_type": "code",
   "execution_count": 97,
   "metadata": {
    "collapsed": true
   },
   "outputs": [],
   "source": [
    "def get_predicted_rank(model, data):\n",
    "    return model.predict_proba(data)[:, 1]"
   ]
  },
  {
   "cell_type": "code",
   "execution_count": 98,
   "metadata": {
    "collapsed": false
   },
   "outputs": [
    {
     "name": "stdout",
     "output_type": "stream",
     "text": [
      "train precision: 0.680947848951\n",
      "train recall: 0.711256135779\n",
      "train accuracy: 0.653892069603\n",
      "test precision: 0.668242778542\n",
      "test recall: 0.704538759602\n",
      "test accuracy: 0.644044702235\n"
     ]
    }
   ],
   "source": [
    "from sklearn import tree\n",
    "model = train_model(tree.DecisionTreeClassifier(), get_predicted_outcome, X_train, y_train, X_test, y_test)"
   ]
  },
  {
   "cell_type": "code",
   "execution_count": 99,
   "metadata": {
    "collapsed": false
   },
   "outputs": [
    {
     "name": "stdout",
     "output_type": "stream",
     "text": [
      "overall input shape: (1681, 23)\n"
     ]
    },
    {
     "data": {
      "image/png": "[encoded data removed]",
      "text/plain": [
       "<matplotlib.figure.Figure at 0x11032d080>"
      ]
     },
     "metadata": {},
     "output_type": "display_data"
    }
   ],
   "source": [
    "plot_rank(['price'], model, learning_data, get_predicted_rank)"
   ]
  },
  {
   "cell_type": "markdown",
   "metadata": {},
   "source": [
    "# Customers with non-linear buying behaviour"
   ]
  },
  {
   "cell_type": "code",
   "execution_count": 100,
   "metadata": {
    "collapsed": false
   },
   "outputs": [],
   "source": [
    "price_component = np.sqrt(movie_data['price'] * 0.1)\n",
    "ratings_component = np.sqrt(movie_data['ratings_average'] * 0.1 * 2)\n",
    "movie_data['buy_probability'] = 1 - price_component * 0.2 - ratings_component * 0.8"
   ]
  },
  {
   "cell_type": "code",
   "execution_count": 101,
   "metadata": {
    "collapsed": false
   },
   "outputs": [
    {
     "data": {
      "image/png": "[encoded data removed]",
      "text/plain": [
       "<matplotlib.figure.Figure at 0x10f437630>"
      ]
     },
     "metadata": {},
     "output_type": "display_data"
    }
   ],
   "source": [
    "plot_distributions(movie_data)"
   ]
  },
  {
   "cell_type": "code",
   "execution_count": 102,
   "metadata": {
    "collapsed": false
   },
   "outputs": [
    {
     "data": {
      "image/png": "[encoded data removed]",
      "text/plain": [
       "<matplotlib.figure.Figure at 0x1121019e8>"
      ]
     },
     "metadata": {},
     "output_type": "display_data"
    }
   ],
   "source": [
    "plt.subplot(2, 1, 1)\n",
    "plt.plot(movie_data['price'].values, movie_data['buy_probability'].values, 'ro') # ro = red circles\n",
    "plt.xlabel('price')\n",
    "plt.ylabel('buy_probability')\n",
    "\n",
    "plt.subplot(2, 1, 2)\n",
    "plt.plot(movie_data['ratings_average'].values, movie_data['buy_probability'].values, 'ro') # ro = red circles\n",
    "plt.xlabel('ratings_average')\n",
    "plt.ylabel('buy_probability')\n",
    "\n",
    "plt.tight_layout()\n",
    "plt.show()"
   ]
  },
  {
   "cell_type": "markdown",
   "metadata": {},
   "source": [
    "# Create events"
   ]
  },
  {
   "cell_type": "code",
   "execution_count": 103,
   "metadata": {
    "collapsed": true
   },
   "outputs": [],
   "source": [
    "learning_data = build_learning_data_from(movie_data)"
   ]
  },
  {
   "cell_type": "code",
   "execution_count": 69,
   "metadata": {
    "collapsed": false
   },
   "outputs": [],
   "source": [
    "positive_events, negative_events = generate_events()\n",
    "events_data = build_events_data(positive_events, negative_events, learning_data)\n",
    "save_events_data(events_data, learning_data, 'nonlinear')"
   ]
  },
  {
   "cell_type": "code",
   "execution_count": 104,
   "metadata": {
    "collapsed": true
   },
   "outputs": [],
   "source": [
    "events_data, feature_columns = load_events_data('nonlinear')"
   ]
  },
  {
   "cell_type": "code",
   "execution_count": 105,
   "metadata": {
    "collapsed": false
   },
   "outputs": [
    {
     "data": {
      "image/png": "[encoded data removed]",
      "text/plain": [
       "<matplotlib.figure.Figure at 0x112279320>"
      ]
     },
     "metadata": {},
     "output_type": "display_data"
    }
   ],
   "source": [
    "plot_events_distribution(events_data)"
   ]
  },
  {
   "cell_type": "code",
   "execution_count": 106,
   "metadata": {
    "collapsed": false
   },
   "outputs": [
    {
     "name": "stdout",
     "output_type": "stream",
     "text": [
      "overall input shape: (399980, 23)\n",
      "overall output shape: (399980,)\n",
      "training input shape: (319984, 23)\n",
      "training output shape: (319984,)\n",
      "testing input shape: (79996, 23)\n",
      "testing output shape: (79996,)\n"
     ]
    }
   ],
   "source": [
    "X_train, X_test, y_train, y_test = get_test_train_data(events_data)"
   ]
  },
  {
   "cell_type": "markdown",
   "metadata": {},
   "source": [
    "# Rank with the perfect predictor"
   ]
  },
  {
   "cell_type": "code",
   "execution_count": 124,
   "metadata": {
    "collapsed": true
   },
   "outputs": [],
   "source": [
    "def get_predicted_outcome(model, data):\n",
    "    return np.rint(model.predict(data))"
   ]
  },
  {
   "cell_type": "code",
   "execution_count": 125,
   "metadata": {
    "collapsed": true
   },
   "outputs": [],
   "source": [
    "def get_predicted_rank(model, data):\n",
    "    return model.predict(data)"
   ]
  },
  {
   "cell_type": "code",
   "execution_count": 126,
   "metadata": {
    "collapsed": true
   },
   "outputs": [],
   "source": [
    "import warnings\n",
    "warnings.filterwarnings(\"ignore\", category=DeprecationWarning)"
   ]
  },
  {
   "cell_type": "code",
   "execution_count": 127,
   "metadata": {
    "collapsed": false
   },
   "outputs": [],
   "source": [
    "class PerfectPredictor:\n",
    "    def fit(self, X, y):\n",
    "        return None\n",
    "    \n",
    "    def predict(self, X):\n",
    "        min_max_scaler = preprocessing.MinMaxScaler()\n",
    "        price_component = np.sqrt(min_max_scaler.fit_transform(X[:, -5]))\n",
    "        ratings_component = np.sqrt(min_max_scaler.fit_transform(X[:, -4]))\n",
    "        return 1 - price_component * 0.2 - ratings_component * 0.8"
   ]
  },
  {
   "cell_type": "code",
   "execution_count": 128,
   "metadata": {
    "collapsed": false
   },
   "outputs": [
    {
     "name": "stdout",
     "output_type": "stream",
     "text": [
      "train precision: 0.515083321464\n",
      "train recall: 0.226469446288\n",
      "train accuracy: 0.753787689384\n",
      "test precision: 0.513203730756\n",
      "test recall: 0.228281515545\n",
      "test accuracy: 0.752850142507\n",
      "overall input shape: (1681, 23)\n"
     ]
    },
    {
     "data": {
      "image/png": "[encoded data removed]",
      "text/plain": [
       "<matplotlib.figure.Figure at 0x112312860>"
      ]
     },
     "metadata": {},
     "output_type": "display_data"
    }
   ],
   "source": [
    "model = train_model(PerfectPredictor(), get_predicted_outcome, X_train, y_train, X_test, y_test)\n",
    "plot_rank(['price', 'ratings_average'], model, learning_data, get_predicted_rank)"
   ]
  },
  {
   "cell_type": "markdown",
   "metadata": {},
   "source": [
    "# Rank with Logistic Regression"
   ]
  },
  {
   "cell_type": "code",
   "execution_count": 107,
   "metadata": {
    "collapsed": true
   },
   "outputs": [],
   "source": [
    "def get_predicted_outcome(model, data):\n",
    "    return np.argmax(model.predict_proba(data), axis=1).astype(np.float32)"
   ]
  },
  {
   "cell_type": "code",
   "execution_count": 108,
   "metadata": {
    "collapsed": true
   },
   "outputs": [],
   "source": [
    "def get_predicted_rank(model, data):\n",
    "    return model.predict_proba(data)[:, 1]"
   ]
  },
  {
   "cell_type": "code",
   "execution_count": 109,
   "metadata": {
    "collapsed": false
   },
   "outputs": [
    {
     "name": "stdout",
     "output_type": "stream",
     "text": [
      "train precision: 0.613005193046\n",
      "train recall: 0.136016933231\n",
      "train accuracy: 0.762991274564\n",
      "test precision: 0.605217010083\n",
      "test recall: 0.138008597421\n",
      "test accuracy: 0.761913095655\n"
     ]
    }
   ],
   "source": [
    "model = train_model(LogisticRegression(), get_predicted_outcome, X_train, y_train, X_test, y_test)"
   ]
  },
  {
   "cell_type": "code",
   "execution_count": 110,
   "metadata": {
    "collapsed": false
   },
   "outputs": [
    {
     "name": "stdout",
     "output_type": "stream",
     "text": [
      "overall input shape: (1681, 23)\n"
     ]
    },
    {
     "data": {
      "image/png": "[encoded data removed]",
      "text/plain": [
       "<matplotlib.figure.Figure at 0x110799278>"
      ]
     },
     "metadata": {},
     "output_type": "display_data"
    }
   ],
   "source": [
    "plot_rank(['price', 'ratings_average'], model, learning_data, get_predicted_rank)"
   ]
  },
  {
   "cell_type": "markdown",
   "metadata": {},
   "source": [
    "# Rank with Neural Networks"
   ]
  },
  {
   "cell_type": "code",
   "execution_count": 33,
   "metadata": {
    "collapsed": true
   },
   "outputs": [],
   "source": [
    "def get_predicted_outcome(model, data):\n",
    "    return np.rint(model.predict(data))"
   ]
  },
  {
   "cell_type": "code",
   "execution_count": 34,
   "metadata": {
    "collapsed": true
   },
   "outputs": [],
   "source": [
    "def get_predicted_rank(model, data):\n",
    "    return model.predict(data)"
   ]
  },
  {
   "cell_type": "code",
   "execution_count": null,
   "metadata": {
    "collapsed": false
   },
   "outputs": [],
   "source": [
    "model = train_model(\n",
    "    nn(), \n",
    "    get_predicted_outcome, \n",
    "    X_train.astype(np.float32), \n",
    "    y_train.astype(np.float32), \n",
    "    X_test.astype(np.float32), \n",
    "    y_test.astype(np.float32)\n",
    ")"
   ]
  },
  {
   "cell_type": "code",
   "execution_count": 114,
   "metadata": {
    "collapsed": false
   },
   "outputs": [
    {
     "name": "stdout",
     "output_type": "stream",
     "text": [
      "overall input shape: (1681, 23)\n"
     ]
    },
    {
     "data": {
      "image/png": "[encoded data removed]",
      "text/plain": [
       "<matplotlib.figure.Figure at 0x1120a5eb8>"
      ]
     },
     "metadata": {},
     "output_type": "display_data"
    }
   ],
   "source": [
    "plot_rank(['price', 'ratings_average'], model, learning_data, get_predicted_rank)"
   ]
  },
  {
   "cell_type": "markdown",
   "metadata": {
    "collapsed": true
   },
   "source": [
    "# Rank with Decision Trees"
   ]
  },
  {
   "cell_type": "code",
   "execution_count": 115,
   "metadata": {
    "collapsed": true
   },
   "outputs": [],
   "source": [
    "def get_predicted_outcome(model, data):\n",
    "    return np.argmax(model.predict_proba(data), axis=1).astype(np.float32)"
   ]
  },
  {
   "cell_type": "code",
   "execution_count": 116,
   "metadata": {
    "collapsed": true
   },
   "outputs": [],
   "source": [
    "def get_predicted_rank(model, data):\n",
    "    return model.predict_proba(data)[:, 1]"
   ]
  },
  {
   "cell_type": "code",
   "execution_count": 117,
   "metadata": {
    "collapsed": false
   },
   "outputs": [
    {
     "name": "stdout",
     "output_type": "stream",
     "text": [
      "train precision: 0.634287197456\n",
      "train recall: 0.122427764488\n",
      "train accuracy: 0.763413170659\n",
      "test precision: 0.625315179022\n",
      "test recall: 0.123962811157\n",
      "test accuracy: 0.762338116906\n"
     ]
    }
   ],
   "source": [
    "from sklearn import tree\n",
    "model = train_model(tree.DecisionTreeClassifier(), get_predicted_outcome, X_train, y_train, X_test, y_test)"
   ]
  },
  {
   "cell_type": "code",
   "execution_count": 118,
   "metadata": {
    "collapsed": false
   },
   "outputs": [
    {
     "name": "stdout",
     "output_type": "stream",
     "text": [
      "overall input shape: (1681, 23)\n"
     ]
    },
    {
     "data": {
      "image/png": "[encoded data removed]",
      "text/plain": [
       "<matplotlib.figure.Figure at 0x11229fb00>"
      ]
     },
     "metadata": {},
     "output_type": "display_data"
    }
   ],
   "source": [
    "plot_rank(['price', 'ratings_average'], model, learning_data, get_predicted_rank)"
   ]
  },
  {
   "cell_type": "markdown",
   "metadata": {
    "collapsed": true
   },
   "source": [
    "# Pairwise learning"
   ]
  },
  {
   "cell_type": "code",
   "execution_count": 95,
   "metadata": {
    "collapsed": true
   },
   "outputs": [],
   "source": [
    "def nn():\n",
    "    return NeuralNet(\n",
    "        layers=[  # three layers: one hidden layer\n",
    "            ('input', layers.InputLayer),\n",
    "            ('hidden', layers.DenseLayer),\n",
    "            ('output', layers.DenseLayer),\n",
    "            ],\n",
    "        # layer parameters:\n",
    "        input_shape=(None, 46),  # this code won't compile without SIZE being set\n",
    "        hidden_num_units=92,  # number of units in hidden layer\n",
    "        output_nonlinearity=None,  # output layer uses identity function\n",
    "        output_num_units=1,  # this code won't compile without OUTPUTS being set\n",
    "\n",
    "        # optimization method:\n",
    "        update_learning_rate=0.01, \n",
    "        regression=True,  # If you're doing classification you want this off\n",
    "        max_epochs=50,  # more epochs can be good, \n",
    "        verbose=1, # enabled so that you see meaningful output when the program runs\n",
    "    )"
   ]
  },
  {
   "cell_type": "code",
   "execution_count": 96,
   "metadata": {
    "collapsed": true
   },
   "outputs": [],
   "source": [
    "def get_predicted_outcome(model, data):\n",
    "    return np.rint(model.predict(data))"
   ]
  },
  {
   "cell_type": "code",
   "execution_count": 97,
   "metadata": {
    "collapsed": true
   },
   "outputs": [],
   "source": [
    "def plot_rank_for_pairwise(features, model, learning_data, predict_fun):\n",
    "    learning_data_with_rank = learning_data.copy()\n",
    "    learning_data_with_rank = predict_fun(model, learning_data_with_rank)\n",
    "    \n",
    "    for idx, feature in enumerate(features):\n",
    "        plt.subplot(len(features), 1, idx + 1)\n",
    "        plt.plot(learning_data_with_rank[feature].values, learning_data_with_rank['rank'].values, 'ro')\n",
    "        plt.xlabel(feature)\n",
    "        plt.ylabel('rank')\n",
    "        \n",
    "    plt.tight_layout()\n",
    "    plt.show()"
   ]
  },
  {
   "cell_type": "code",
   "execution_count": 98,
   "metadata": {
    "collapsed": true
   },
   "outputs": [],
   "source": [
    "def get_predicted_rank(model, data):\n",
    "    cached_preference = {}\n",
    "\n",
    "    def preference(x, y):\n",
    "        if cached_preference.get((x, y)) is not None:\n",
    "            return cached_preference[x, y]\n",
    "        \n",
    "        x_v = data.loc[x].values\n",
    "        y_v = data.loc[y].values\n",
    "        cached_preference[x, y] = model.predict(np.array([np.concatenate([x_v, y_v])]))\n",
    "        return cached_preference[x, y]\n",
    "        \n",
    "    g = GreedyOrder(data.index, preference)\n",
    "    order = g.run()\n",
    "    for i, row in data.iterrows():\n",
    "        data.loc[i, 'rank'] = 1 - (order.index(i) / float(len(order)))\n",
    "    \n",
    "    return data"
   ]
  },
  {
   "cell_type": "code",
   "execution_count": 99,
   "metadata": {
    "collapsed": true
   },
   "outputs": [],
   "source": [
    "from importlib import reload\n",
    "import greedy_order\n",
    "reload(greedy_order)\n",
    "from greedy_order import *"
   ]
  },
  {
   "cell_type": "code",
   "execution_count": 100,
   "metadata": {
    "collapsed": false
   },
   "outputs": [
    {
     "name": "stdout",
     "output_type": "stream",
     "text": [
      "# Neural Network with 4417 learnable parameters\n",
      "\n",
      "## Layer information\n",
      "\n",
      "  #  name      size\n",
      "---  ------  ------\n",
      "  0  input       46\n",
      "  1  hidden      92\n",
      "  2  output       1\n",
      "\n",
      "  epoch    trn loss    val loss    trn/val  dur\n",
      "-------  ----------  ----------  ---------  -----\n",
      "      1     \u001b[36m0.19161\u001b[0m     \u001b[32m0.18387\u001b[0m    1.04211  0.77s\n",
      "      2     \u001b[36m0.18166\u001b[0m     \u001b[32m0.18241\u001b[0m    0.99589  0.77s\n",
      "      3     \u001b[36m0.18035\u001b[0m     \u001b[32m0.18143\u001b[0m    0.99405  0.96s\n",
      "      4     \u001b[36m0.17941\u001b[0m     \u001b[32m0.18067\u001b[0m    0.99303  0.91s\n",
      "      5     \u001b[36m0.17860\u001b[0m     \u001b[32m0.18007\u001b[0m    0.99183  0.99s\n",
      "      6     \u001b[36m0.17784\u001b[0m     \u001b[32m0.17954\u001b[0m    0.99054  0.87s\n",
      "      7     \u001b[36m0.17716\u001b[0m     \u001b[32m0.17910\u001b[0m    0.98915  0.94s\n",
      "      8     \u001b[36m0.17651\u001b[0m     \u001b[32m0.17870\u001b[0m    0.98777  0.97s\n",
      "      9     \u001b[36m0.17589\u001b[0m     \u001b[32m0.17835\u001b[0m    0.98625  1.01s\n",
      "     10     \u001b[36m0.17532\u001b[0m     \u001b[32m0.17801\u001b[0m    0.98488  0.96s\n",
      "     11     \u001b[36m0.17478\u001b[0m     \u001b[32m0.17782\u001b[0m    0.98287  0.91s\n",
      "     12     \u001b[36m0.17427\u001b[0m     \u001b[32m0.17758\u001b[0m    0.98133  0.81s\n",
      "     13     \u001b[36m0.17377\u001b[0m     \u001b[32m0.17730\u001b[0m    0.98012  0.89s\n",
      "     14     \u001b[36m0.17330\u001b[0m     \u001b[32m0.17707\u001b[0m    0.97872  0.88s\n",
      "     15     \u001b[36m0.17284\u001b[0m     \u001b[32m0.17676\u001b[0m    0.97783  0.81s\n",
      "     16     \u001b[36m0.17239\u001b[0m     \u001b[32m0.17653\u001b[0m    0.97652  0.88s\n",
      "     17     \u001b[36m0.17198\u001b[0m     \u001b[32m0.17630\u001b[0m    0.97549  0.95s\n",
      "     18     \u001b[36m0.17157\u001b[0m     \u001b[32m0.17611\u001b[0m    0.97423  0.89s\n",
      "     19     \u001b[36m0.17119\u001b[0m     \u001b[32m0.17588\u001b[0m    0.97331  0.84s\n",
      "     20     \u001b[36m0.17079\u001b[0m     \u001b[32m0.17565\u001b[0m    0.97238  0.86s\n",
      "     21     \u001b[36m0.17039\u001b[0m     \u001b[32m0.17542\u001b[0m    0.97135  0.87s\n",
      "     22     \u001b[36m0.17003\u001b[0m     \u001b[32m0.17522\u001b[0m    0.97039  1.15s\n",
      "     23     \u001b[36m0.16966\u001b[0m     \u001b[32m0.17495\u001b[0m    0.96978  1.00s\n",
      "     24     \u001b[36m0.16929\u001b[0m     \u001b[32m0.17467\u001b[0m    0.96916  1.04s\n",
      "     25     \u001b[36m0.16892\u001b[0m     \u001b[32m0.17445\u001b[0m    0.96831  1.05s\n",
      "     26     \u001b[36m0.16858\u001b[0m     \u001b[32m0.17421\u001b[0m    0.96768  0.83s\n",
      "     27     \u001b[36m0.16825\u001b[0m     \u001b[32m0.17402\u001b[0m    0.96685  0.82s\n",
      "     28     \u001b[36m0.16794\u001b[0m     \u001b[32m0.17385\u001b[0m    0.96602  0.95s\n",
      "     29     \u001b[36m0.16763\u001b[0m     \u001b[32m0.17363\u001b[0m    0.96544  0.97s\n",
      "     30     \u001b[36m0.16733\u001b[0m     \u001b[32m0.17349\u001b[0m    0.96450  1.01s\n",
      "     31     \u001b[36m0.16703\u001b[0m     \u001b[32m0.17331\u001b[0m    0.96378  1.05s\n",
      "     32     \u001b[36m0.16674\u001b[0m     \u001b[32m0.17311\u001b[0m    0.96320  1.03s\n",
      "     33     \u001b[36m0.16645\u001b[0m     \u001b[32m0.17300\u001b[0m    0.96215  1.26s\n",
      "     34     \u001b[36m0.16619\u001b[0m     \u001b[32m0.17281\u001b[0m    0.96167  1.16s\n",
      "     35     \u001b[36m0.16592\u001b[0m     \u001b[32m0.17266\u001b[0m    0.96093  1.12s\n",
      "     36     \u001b[36m0.16564\u001b[0m     \u001b[32m0.17249\u001b[0m    0.96026  1.12s\n",
      "     37     \u001b[36m0.16536\u001b[0m     \u001b[32m0.17234\u001b[0m    0.95947  1.15s\n",
      "     38     \u001b[36m0.16509\u001b[0m     \u001b[32m0.17223\u001b[0m    0.95853  1.08s\n",
      "     39     \u001b[36m0.16484\u001b[0m     \u001b[32m0.17205\u001b[0m    0.95812  1.18s\n",
      "     40     \u001b[36m0.16458\u001b[0m     \u001b[32m0.17190\u001b[0m    0.95745  1.14s\n",
      "     41     \u001b[36m0.16434\u001b[0m     \u001b[32m0.17178\u001b[0m    0.95670  0.86s\n",
      "     42     \u001b[36m0.16411\u001b[0m     \u001b[32m0.17163\u001b[0m    0.95623  1.07s\n",
      "     43     \u001b[36m0.16388\u001b[0m     \u001b[32m0.17152\u001b[0m    0.95545  0.97s\n",
      "     44     \u001b[36m0.16365\u001b[0m     \u001b[32m0.17139\u001b[0m    0.95481  0.87s\n",
      "     45     \u001b[36m0.16344\u001b[0m     \u001b[32m0.17131\u001b[0m    0.95404  0.86s\n",
      "     46     \u001b[36m0.16322\u001b[0m     \u001b[32m0.17119\u001b[0m    0.95345  1.09s\n",
      "     47     \u001b[36m0.16301\u001b[0m     \u001b[32m0.17108\u001b[0m    0.95283  1.10s\n",
      "     48     \u001b[36m0.16279\u001b[0m     \u001b[32m0.17099\u001b[0m    0.95204  1.01s\n",
      "     49     \u001b[36m0.16259\u001b[0m     \u001b[32m0.17094\u001b[0m    0.95118  0.93s\n",
      "     50     \u001b[36m0.16240\u001b[0m     \u001b[32m0.17089\u001b[0m    0.95034  1.15s\n",
      "train precision: 0.741640350086\n",
      "train recall: 0.789435267\n",
      "train accuracy: 0.75737129036\n",
      "test precision: 0.745958362611\n",
      "test recall: 0.744663697789\n",
      "test accuracy: 0.744663697789\n"
     ]
    },
    {
     "name": "stderr",
     "output_type": "stream",
     "text": [
      "/Users/motta/.pyenv/versions/learning-to-rank/lib/python3.5/site-packages/sklearn/metrics/classification.py:1076: UndefinedMetricWarning: Recall is ill-defined and being set to 0.0 in labels with no true samples.\n",
      "  'recall', 'true', average, warn_for)\n"
     ]
    }
   ],
   "source": [
    "model = train_model(\n",
    "    nn(), \n",
    "    get_predicted_outcome, \n",
    "    X_train.astype(np.float32), \n",
    "    y_train.astype(np.float32), \n",
    "    X_test.astype(np.float32), \n",
    "    y_test.astype(np.float32)\n",
    ")"
   ]
  },
  {
   "cell_type": "code",
   "execution_count": 101,
   "metadata": {
    "collapsed": false
   },
   "outputs": [
    {
     "data": {
      "image/png": "[encoded data removed]",
      "text/plain": [
       "<matplotlib.figure.Figure at 0x10e0f7668>"
      ]
     },
     "metadata": {},
     "output_type": "display_data"
    }
   ],
   "source": [
    "plot_rank_for_pairwise(['price'], model, learning_data, get_predicted_rank)"
   ]
  },
  {
   "cell_type": "code",
   "execution_count": null,
   "metadata": {
    "collapsed": true
   },
   "outputs": [],
   "source": []
  }
 ],
 "metadata": {
  "hide_input": false,
  "kernelspec": {
   "display_name": "learning-to-rank",
   "language": "python",
   "name": "learning-to-rank"
  },
  "language_info": {
   "codemirror_mode": {
    "name": "ipython",
    "version": 3
   },
   "file_extension": ".py",
   "mimetype": "text/x-python",
   "name": "python",
   "nbconvert_exporter": "python",
   "pygments_lexer": "ipython3",
   "version": "3.5.0"
  },
  "pycharm": {
   "stem_cell": {
    "cell_type": "raw",
    "source": [
     "# %%\n",
     "\n",
     "import sys\n",
     "sys.path.insert(0, '../lib')  # noqa\n",
     "import numpy as np\n",
     "import pandas as pd\n",
     "from sklearn.cross_validation import train_test_split\n",
     "from sklearn.metrics import mean_squared_error\n",
     "from sklearn.linear_model import LogisticRegression\n",
     "import pdb\n",
     "from sklearn.metrics import *\n",
     "%matplotlib inline\n",
     "import matplotlib.pyplot as plt\n",
     "from sklearn import preprocessing\n",
     "from sklearn.preprocessing import StandardScaler\n",
     "import itertools\n",
     "import csv\n",
     "from lasagne import layers\n",
     "from lasagne.updates import nesterov_momentum\n",
     "from lasagne.nonlinearities import softmax\n",
     "from nolearn.lasagne import NeuralNet\n",
     "from greedy_order import *\n"
    ],
    "metadata": {
     "collapsed": false
    }
   }
  }
 },
 "nbformat": 4,
 "nbformat_minor": 0
}